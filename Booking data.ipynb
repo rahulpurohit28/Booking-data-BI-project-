{
 "cells": [
  {
   "cell_type": "markdown",
   "metadata": {},
   "source": [
    "### Booking data of 3 Hotels/Resorts "
   ]
  },
  {
   "cell_type": "markdown",
   "metadata": {},
   "source": [
    "The dataset contains the following columns:\n",
    "- Booking ID (unique)\n",
    "- Property ID (1, 2 or 3)\n",
    "- Booking Amount (self-explanatory)\n",
    "- Check-In Date (self-explanatory)\n",
    "- Check-Out Date (self-explanatory)\n",
    "- Rooms Booked (self-explanatory)"
   ]
  },
  {
   "cell_type": "markdown",
   "metadata": {},
   "source": [
    "Importing the libraries-"
   ]
  },
  {
   "cell_type": "code",
   "execution_count": 2,
   "metadata": {},
   "outputs": [],
   "source": [
    "import pandas as pd\n",
    "import numpy as np\n",
    "import datetime\n",
    "import seaborn as sns\n",
    "import datetime\n",
    "import matplotlib.pyplot as plt\n",
    "%matplotlib inline"
   ]
  },
  {
   "cell_type": "code",
   "execution_count": 3,
   "metadata": {},
   "outputs": [
    {
     "data": {
      "text/html": [
       "<div>\n",
       "<style scoped>\n",
       "    .dataframe tbody tr th:only-of-type {\n",
       "        vertical-align: middle;\n",
       "    }\n",
       "\n",
       "    .dataframe tbody tr th {\n",
       "        vertical-align: top;\n",
       "    }\n",
       "\n",
       "    .dataframe thead th {\n",
       "        text-align: right;\n",
       "    }\n",
       "</style>\n",
       "<table border=\"1\" class=\"dataframe\">\n",
       "  <thead>\n",
       "    <tr style=\"text-align: right;\">\n",
       "      <th></th>\n",
       "      <th>booking_id</th>\n",
       "      <th>property_id</th>\n",
       "      <th>booking_amount</th>\n",
       "      <th>check_in_date</th>\n",
       "      <th>check_out_date</th>\n",
       "      <th>rooms_booked</th>\n",
       "    </tr>\n",
       "  </thead>\n",
       "  <tbody>\n",
       "    <tr>\n",
       "      <th>0</th>\n",
       "      <td>25641</td>\n",
       "      <td>2</td>\n",
       "      <td>19784</td>\n",
       "      <td>11/29/2019</td>\n",
       "      <td>12/1/2019</td>\n",
       "      <td>1</td>\n",
       "    </tr>\n",
       "    <tr>\n",
       "      <th>1</th>\n",
       "      <td>25642</td>\n",
       "      <td>1</td>\n",
       "      <td>40067</td>\n",
       "      <td>11/29/2019</td>\n",
       "      <td>12/4/2019</td>\n",
       "      <td>2</td>\n",
       "    </tr>\n",
       "    <tr>\n",
       "      <th>2</th>\n",
       "      <td>25643</td>\n",
       "      <td>3</td>\n",
       "      <td>35655</td>\n",
       "      <td>11/26/2019</td>\n",
       "      <td>11/29/2019</td>\n",
       "      <td>2</td>\n",
       "    </tr>\n",
       "    <tr>\n",
       "      <th>3</th>\n",
       "      <td>25644</td>\n",
       "      <td>2</td>\n",
       "      <td>10129</td>\n",
       "      <td>12/7/2019</td>\n",
       "      <td>12/9/2019</td>\n",
       "      <td>2</td>\n",
       "    </tr>\n",
       "    <tr>\n",
       "      <th>4</th>\n",
       "      <td>25645</td>\n",
       "      <td>3</td>\n",
       "      <td>30433</td>\n",
       "      <td>11/15/2019</td>\n",
       "      <td>11/18/2019</td>\n",
       "      <td>1</td>\n",
       "    </tr>\n",
       "  </tbody>\n",
       "</table>\n",
       "</div>"
      ],
      "text/plain": [
       "   booking_id  property_id  booking_amount check_in_date check_out_date  \\\n",
       "0       25641            2           19784    11/29/2019      12/1/2019   \n",
       "1       25642            1           40067    11/29/2019      12/4/2019   \n",
       "2       25643            3           35655    11/26/2019     11/29/2019   \n",
       "3       25644            2           10129     12/7/2019      12/9/2019   \n",
       "4       25645            3           30433    11/15/2019     11/18/2019   \n",
       "\n",
       "   rooms_booked  \n",
       "0             1  \n",
       "1             2  \n",
       "2             2  \n",
       "3             2  \n",
       "4             1  "
      ]
     },
     "execution_count": 3,
     "metadata": {},
     "output_type": "execute_result"
    }
   ],
   "source": [
    "data=pd.read_csv('Booking Data.csv')\n",
    "data.head()"
   ]
  },
  {
   "cell_type": "code",
   "execution_count": 4,
   "metadata": {},
   "outputs": [
    {
     "data": {
      "text/plain": [
       "booking_id         int64\n",
       "property_id        int64\n",
       "booking_amount     int64\n",
       "check_in_date     object\n",
       "check_out_date    object\n",
       "rooms_booked       int64\n",
       "dtype: object"
      ]
     },
     "execution_count": 4,
     "metadata": {},
     "output_type": "execute_result"
    }
   ],
   "source": [
    "# Data types- \n",
    "data.dtypes"
   ]
  },
  {
   "cell_type": "code",
   "execution_count": 5,
   "metadata": {},
   "outputs": [
    {
     "data": {
      "text/plain": [
       "booking_id        0\n",
       "property_id       0\n",
       "booking_amount    0\n",
       "check_in_date     1\n",
       "check_out_date    7\n",
       "rooms_booked      0\n",
       "dtype: int64"
      ]
     },
     "execution_count": 5,
     "metadata": {},
     "output_type": "execute_result"
    }
   ],
   "source": [
    "# Checking for NULL values - \n",
    "data.isnull().sum()"
   ]
  },
  {
   "cell_type": "code",
   "execution_count": 6,
   "metadata": {},
   "outputs": [
    {
     "data": {
      "text/html": [
       "<div>\n",
       "<style scoped>\n",
       "    .dataframe tbody tr th:only-of-type {\n",
       "        vertical-align: middle;\n",
       "    }\n",
       "\n",
       "    .dataframe tbody tr th {\n",
       "        vertical-align: top;\n",
       "    }\n",
       "\n",
       "    .dataframe thead th {\n",
       "        text-align: right;\n",
       "    }\n",
       "</style>\n",
       "<table border=\"1\" class=\"dataframe\">\n",
       "  <thead>\n",
       "    <tr style=\"text-align: right;\">\n",
       "      <th></th>\n",
       "      <th>booking_id</th>\n",
       "      <th>property_id</th>\n",
       "      <th>booking_amount</th>\n",
       "      <th>check_in_date</th>\n",
       "      <th>check_out_date</th>\n",
       "      <th>rooms_booked</th>\n",
       "    </tr>\n",
       "  </thead>\n",
       "  <tbody>\n",
       "    <tr>\n",
       "      <th>12</th>\n",
       "      <td>25653</td>\n",
       "      <td>2</td>\n",
       "      <td>17679</td>\n",
       "      <td>NaN</td>\n",
       "      <td>1/1/1900</td>\n",
       "      <td>1</td>\n",
       "    </tr>\n",
       "  </tbody>\n",
       "</table>\n",
       "</div>"
      ],
      "text/plain": [
       "    booking_id  property_id  booking_amount check_in_date check_out_date  \\\n",
       "12       25653            2           17679           NaN       1/1/1900   \n",
       "\n",
       "    rooms_booked  \n",
       "12             1  "
      ]
     },
     "execution_count": 6,
     "metadata": {},
     "output_type": "execute_result"
    }
   ],
   "source": [
    "# Finding the row with NULL in check in date- \n",
    "data[data.check_in_date.isnull()]"
   ]
  },
  {
   "cell_type": "code",
   "execution_count": 7,
   "metadata": {},
   "outputs": [],
   "source": [
    "# Finding the row with NULL in check out date- "
   ]
  },
  {
   "cell_type": "code",
   "execution_count": 8,
   "metadata": {},
   "outputs": [
    {
     "data": {
      "text/html": [
       "<div>\n",
       "<style scoped>\n",
       "    .dataframe tbody tr th:only-of-type {\n",
       "        vertical-align: middle;\n",
       "    }\n",
       "\n",
       "    .dataframe tbody tr th {\n",
       "        vertical-align: top;\n",
       "    }\n",
       "\n",
       "    .dataframe thead th {\n",
       "        text-align: right;\n",
       "    }\n",
       "</style>\n",
       "<table border=\"1\" class=\"dataframe\">\n",
       "  <thead>\n",
       "    <tr style=\"text-align: right;\">\n",
       "      <th></th>\n",
       "      <th>booking_id</th>\n",
       "      <th>property_id</th>\n",
       "      <th>booking_amount</th>\n",
       "      <th>check_in_date</th>\n",
       "      <th>check_out_date</th>\n",
       "      <th>rooms_booked</th>\n",
       "    </tr>\n",
       "  </thead>\n",
       "  <tbody>\n",
       "    <tr>\n",
       "      <th>26</th>\n",
       "      <td>25667</td>\n",
       "      <td>3</td>\n",
       "      <td>16885</td>\n",
       "      <td>12/4/2019</td>\n",
       "      <td>NaN</td>\n",
       "      <td>1</td>\n",
       "    </tr>\n",
       "    <tr>\n",
       "      <th>41</th>\n",
       "      <td>25682</td>\n",
       "      <td>1</td>\n",
       "      <td>28550</td>\n",
       "      <td>11/20/2019</td>\n",
       "      <td>NaN</td>\n",
       "      <td>1</td>\n",
       "    </tr>\n",
       "    <tr>\n",
       "      <th>49</th>\n",
       "      <td>25690</td>\n",
       "      <td>2</td>\n",
       "      <td>37021</td>\n",
       "      <td>11/18/2019</td>\n",
       "      <td>NaN</td>\n",
       "      <td>2</td>\n",
       "    </tr>\n",
       "    <tr>\n",
       "      <th>140</th>\n",
       "      <td>25781</td>\n",
       "      <td>1</td>\n",
       "      <td>10926</td>\n",
       "      <td>11/16/2019</td>\n",
       "      <td>NaN</td>\n",
       "      <td>2</td>\n",
       "    </tr>\n",
       "    <tr>\n",
       "      <th>155</th>\n",
       "      <td>25796</td>\n",
       "      <td>2</td>\n",
       "      <td>31455</td>\n",
       "      <td>11/25/2019</td>\n",
       "      <td>NaN</td>\n",
       "      <td>1</td>\n",
       "    </tr>\n",
       "    <tr>\n",
       "      <th>651</th>\n",
       "      <td>26292</td>\n",
       "      <td>2</td>\n",
       "      <td>31824</td>\n",
       "      <td>11/27/2019</td>\n",
       "      <td>NaN</td>\n",
       "      <td>1</td>\n",
       "    </tr>\n",
       "    <tr>\n",
       "      <th>672</th>\n",
       "      <td>26313</td>\n",
       "      <td>1</td>\n",
       "      <td>16528</td>\n",
       "      <td>11/13/2019</td>\n",
       "      <td>NaN</td>\n",
       "      <td>1</td>\n",
       "    </tr>\n",
       "  </tbody>\n",
       "</table>\n",
       "</div>"
      ],
      "text/plain": [
       "     booking_id  property_id  booking_amount check_in_date check_out_date  \\\n",
       "26        25667            3           16885     12/4/2019            NaN   \n",
       "41        25682            1           28550    11/20/2019            NaN   \n",
       "49        25690            2           37021    11/18/2019            NaN   \n",
       "140       25781            1           10926    11/16/2019            NaN   \n",
       "155       25796            2           31455    11/25/2019            NaN   \n",
       "651       26292            2           31824    11/27/2019            NaN   \n",
       "672       26313            1           16528    11/13/2019            NaN   \n",
       "\n",
       "     rooms_booked  \n",
       "26              1  \n",
       "41              1  \n",
       "49              2  \n",
       "140             2  \n",
       "155             1  \n",
       "651             1  \n",
       "672             1  "
      ]
     },
     "execution_count": 8,
     "metadata": {},
     "output_type": "execute_result"
    }
   ],
   "source": [
    "# Finding the row with NULL in check out date- \n",
    "data[data.check_out_date.isnull()]"
   ]
  },
  {
   "cell_type": "markdown",
   "metadata": {},
   "source": [
    "NULL values are present in the check in check out dates , it could be due to some reporting error. NULL in check-out values wont affect the current study, however NULL in check-in date would lead to a difference in total amount. "
   ]
  },
  {
   "cell_type": "markdown",
   "metadata": {},
   "source": [
    "### Converting Check_in_date and check_out_date features to Datetime- "
   ]
  },
  {
   "cell_type": "code",
   "execution_count": 9,
   "metadata": {},
   "outputs": [],
   "source": [
    "data['check_in_date']=pd.to_datetime(data.check_in_date, infer_datetime_format=True)\n",
    "data['check_out_date']=pd.to_datetime(data.check_out_date, infer_datetime_format=True)"
   ]
  },
  {
   "cell_type": "code",
   "execution_count": 10,
   "metadata": {},
   "outputs": [
    {
     "data": {
      "text/plain": [
       "datetime.date(2019, 11, 10)"
      ]
     },
     "execution_count": 10,
     "metadata": {},
     "output_type": "execute_result"
    }
   ],
   "source": [
    "# First date present in the records\n",
    "min(data.check_in_date).date()"
   ]
  },
  {
   "cell_type": "code",
   "execution_count": 11,
   "metadata": {},
   "outputs": [
    {
     "data": {
      "text/plain": [
       "datetime.date(2019, 12, 10)"
      ]
     },
     "execution_count": 11,
     "metadata": {},
     "output_type": "execute_result"
    }
   ],
   "source": [
    "# Last Check in date \n",
    "max(data.check_in_date).date()"
   ]
  },
  {
   "cell_type": "markdown",
   "metadata": {},
   "source": [
    "Data collected from (2019, 11, 10) to (2019, 12, 10) exactly one month. \n"
   ]
  },
  {
   "cell_type": "markdown",
   "metadata": {},
   "source": [
    "#### Creating a feature for No of days for each booking (will be used for finding room tariff)- "
   ]
  },
  {
   "cell_type": "code",
   "execution_count": 12,
   "metadata": {},
   "outputs": [],
   "source": [
    "data['no_days']= (data['check_out_date'] - data['check_in_date']).apply(lambda x : x.days)"
   ]
  },
  {
   "cell_type": "code",
   "execution_count": 13,
   "metadata": {},
   "outputs": [
    {
     "data": {
      "text/plain": [
       "0    2.0\n",
       "1    5.0\n",
       "2    3.0\n",
       "3    2.0\n",
       "4    3.0\n",
       "5    2.0\n",
       "6    2.0\n",
       "7    2.0\n",
       "8    3.0\n",
       "9    3.0\n",
       "Name: no_days, dtype: float64"
      ]
     },
     "execution_count": 13,
     "metadata": {},
     "output_type": "execute_result"
    }
   ],
   "source": [
    "data.no_days.head(10)"
   ]
  },
  {
   "cell_type": "code",
   "execution_count": 14,
   "metadata": {},
   "outputs": [
    {
     "data": {
      "text/plain": [
       "8"
      ]
     },
     "execution_count": 14,
     "metadata": {},
     "output_type": "execute_result"
    }
   ],
   "source": [
    "data.no_days.isnull().sum()"
   ]
  },
  {
   "cell_type": "markdown",
   "metadata": {},
   "source": [
    "We have total of 8 NULL values . Lets impute them with median."
   ]
  },
  {
   "cell_type": "code",
   "execution_count": 15,
   "metadata": {},
   "outputs": [],
   "source": [
    "data.no_days.fillna(data.no_days.median(),inplace = True)"
   ]
  },
  {
   "cell_type": "markdown",
   "metadata": {},
   "source": [
    "#### Analysing booking_amount variable- \n",
    "It would be worthwhile to create a feature for Booking amount per room per day to get the tariff of room instead of analysing the entire booking amount.  "
   ]
  },
  {
   "cell_type": "code",
   "execution_count": 16,
   "metadata": {},
   "outputs": [],
   "source": [
    "data['room_tariff'] = data['booking_amount']/data['rooms_booked']/data['no_days']"
   ]
  },
  {
   "cell_type": "code",
   "execution_count": 17,
   "metadata": {},
   "outputs": [
    {
     "data": {
      "text/plain": [
       "<matplotlib.axes._subplots.AxesSubplot at 0x2f4e1c7dac8>"
      ]
     },
     "execution_count": 17,
     "metadata": {},
     "output_type": "execute_result"
    },
    {
     "data": {
      "image/png": "[encoded data removed]",
      "text/plain": [
       "<Figure size 432x288 with 1 Axes>"
      ]
     },
     "metadata": {
      "needs_background": "light"
     },
     "output_type": "display_data"
    }
   ],
   "source": [
    "sns.distplot(data.room_tariff)"
   ]
  },
  {
   "cell_type": "code",
   "execution_count": 18,
   "metadata": {},
   "outputs": [
    {
     "data": {
      "text/plain": [
       "count      724.000000\n",
       "mean      5963.419291\n",
       "std       3732.340530\n",
       "min       1015.400000\n",
       "25%       3124.750000\n",
       "50%       4912.437500\n",
       "75%       7868.812500\n",
       "max      20000.500000\n",
       "Name: room_tariff, dtype: float64"
      ]
     },
     "execution_count": 18,
     "metadata": {},
     "output_type": "execute_result"
    }
   ],
   "source": [
    "data.room_tariff.describe()"
   ]
  },
  {
   "cell_type": "code",
   "execution_count": 19,
   "metadata": {},
   "outputs": [
    {
     "data": {
      "text/plain": [
       "<matplotlib.axes._subplots.AxesSubplot at 0x2f4e3daf588>"
      ]
     },
     "execution_count": 19,
     "metadata": {},
     "output_type": "execute_result"
    },
    {
     "data": {
      "image/png": "[encoded data removed]",
      "text/plain": [
       "<Figure size 432x288 with 1 Axes>"
      ]
     },
     "metadata": {
      "needs_background": "light"
     },
     "output_type": "display_data"
    }
   ],
   "source": [
    "sns.boxplot(y=data.room_tariff)"
   ]
  },
  {
   "cell_type": "code",
   "execution_count": 20,
   "metadata": {},
   "outputs": [
    {
     "data": {
      "text/plain": [
       "<matplotlib.axes._subplots.AxesSubplot at 0x2f4e3e23da0>"
      ]
     },
     "execution_count": 20,
     "metadata": {},
     "output_type": "execute_result"
    },
    {
     "data": {
      "image/png": "[encoded data removed]",
      "text/plain": [
       "<Figure size 432x288 with 1 Axes>"
      ]
     },
     "metadata": {
      "needs_background": "light"
     },
     "output_type": "display_data"
    }
   ],
   "source": [
    "sns.distplot(data.groupby(\"property_id\")['room_tariff'].get_group(3))"
   ]
  },
  {
   "cell_type": "code",
   "execution_count": 21,
   "metadata": {},
   "outputs": [
    {
     "data": {
      "text/plain": [
       "<matplotlib.axes._subplots.AxesSubplot at 0x2f4e3ebf390>"
      ]
     },
     "execution_count": 21,
     "metadata": {},
     "output_type": "execute_result"
    },
    {
     "data": {
      "image/png": "[encoded data removed]",
      "text/plain": [
       "<Figure size 432x288 with 1 Axes>"
      ]
     },
     "metadata": {
      "needs_background": "light"
     },
     "output_type": "display_data"
    }
   ],
   "source": [
    "sns.distplot(data.groupby(\"property_id\")['room_tariff'].get_group(2))"
   ]
  },
  {
   "cell_type": "code",
   "execution_count": 22,
   "metadata": {},
   "outputs": [
    {
     "data": {
      "text/plain": [
       "<matplotlib.axes._subplots.AxesSubplot at 0x2f4e3ebf748>"
      ]
     },
     "execution_count": 22,
     "metadata": {},
     "output_type": "execute_result"
    },
    {
     "data": {
      "image/png": "[encoded data removed]",
      "text/plain": [
       "<Figure size 432x288 with 1 Axes>"
      ]
     },
     "metadata": {
      "needs_background": "light"
     },
     "output_type": "display_data"
    }
   ],
   "source": [
    "sns.distplot(data.groupby(\"property_id\")['room_tariff'].get_group(1))"
   ]
  },
  {
   "cell_type": "code",
   "execution_count": 23,
   "metadata": {},
   "outputs": [
    {
     "data": {
      "text/plain": [
       "<matplotlib.axes._subplots.AxesSubplot at 0x2f4e3fcbf60>"
      ]
     },
     "execution_count": 23,
     "metadata": {},
     "output_type": "execute_result"
    },
    {
     "data": {
      "image/png": "[encoded data removed]",
      "text/plain": [
       "<Figure size 432x288 with 1 Axes>"
      ]
     },
     "metadata": {
      "needs_background": "light"
     },
     "output_type": "display_data"
    }
   ],
   "source": [
    "sns.boxplot(y=data.room_tariff,x=data.property_id)"
   ]
  },
  {
   "cell_type": "code",
   "execution_count": 24,
   "metadata": {},
   "outputs": [
    {
     "data": {
      "text/html": [
       "<div>\n",
       "<style scoped>\n",
       "    .dataframe tbody tr th:only-of-type {\n",
       "        vertical-align: middle;\n",
       "    }\n",
       "\n",
       "    .dataframe tbody tr th {\n",
       "        vertical-align: top;\n",
       "    }\n",
       "\n",
       "    .dataframe thead th {\n",
       "        text-align: right;\n",
       "    }\n",
       "</style>\n",
       "<table border=\"1\" class=\"dataframe\">\n",
       "  <thead>\n",
       "    <tr style=\"text-align: right;\">\n",
       "      <th></th>\n",
       "      <th>Property 1</th>\n",
       "      <th>Property 2</th>\n",
       "      <th>Property 3</th>\n",
       "    </tr>\n",
       "  </thead>\n",
       "  <tbody>\n",
       "    <tr>\n",
       "      <th>count</th>\n",
       "      <td>239.000000</td>\n",
       "      <td>254.000000</td>\n",
       "      <td>231.000000</td>\n",
       "    </tr>\n",
       "    <tr>\n",
       "      <th>mean</th>\n",
       "      <td>5689.707566</td>\n",
       "      <td>6187.223261</td>\n",
       "      <td>6000.522727</td>\n",
       "    </tr>\n",
       "    <tr>\n",
       "      <th>std</th>\n",
       "      <td>3499.638082</td>\n",
       "      <td>4041.455879</td>\n",
       "      <td>3607.642897</td>\n",
       "    </tr>\n",
       "    <tr>\n",
       "      <th>min</th>\n",
       "      <td>1015.400000</td>\n",
       "      <td>1113.500000</td>\n",
       "      <td>1064.800000</td>\n",
       "    </tr>\n",
       "    <tr>\n",
       "      <th>25%</th>\n",
       "      <td>3146.525000</td>\n",
       "      <td>3077.025000</td>\n",
       "      <td>3222.650000</td>\n",
       "    </tr>\n",
       "    <tr>\n",
       "      <th>50%</th>\n",
       "      <td>4637.000000</td>\n",
       "      <td>4973.333333</td>\n",
       "      <td>5197.666667</td>\n",
       "    </tr>\n",
       "    <tr>\n",
       "      <th>75%</th>\n",
       "      <td>7235.433333</td>\n",
       "      <td>8220.250000</td>\n",
       "      <td>7715.000000</td>\n",
       "    </tr>\n",
       "    <tr>\n",
       "      <th>max</th>\n",
       "      <td>19370.000000</td>\n",
       "      <td>20000.500000</td>\n",
       "      <td>18587.500000</td>\n",
       "    </tr>\n",
       "  </tbody>\n",
       "</table>\n",
       "</div>"
      ],
      "text/plain": [
       "         Property 1    Property 2    Property 3\n",
       "count    239.000000    254.000000    231.000000\n",
       "mean    5689.707566   6187.223261   6000.522727\n",
       "std     3499.638082   4041.455879   3607.642897\n",
       "min     1015.400000   1113.500000   1064.800000\n",
       "25%     3146.525000   3077.025000   3222.650000\n",
       "50%     4637.000000   4973.333333   5197.666667\n",
       "75%     7235.433333   8220.250000   7715.000000\n",
       "max    19370.000000  20000.500000  18587.500000"
      ]
     },
     "execution_count": 24,
     "metadata": {},
     "output_type": "execute_result"
    }
   ],
   "source": [
    "pd.DataFrame({'Property 1':data.groupby('property_id').room_tariff.get_group(1).describe(),'Property 2':data.groupby('property_id').room_tariff.get_group(2).describe(),'Property 3':data.groupby('property_id').room_tariff.get_group(3).describe()})"
   ]
  },
  {
   "cell_type": "markdown",
   "metadata": {},
   "source": [
    "Inferences- \n",
    "1. As expected we observe positively skewed distribution for room tariff. Few rooms are tariffed higher hence they pull the mean towards the right. If not for these luxury rooms/suites , we would have obtained a normal distribution.   \n",
    "2. All the properties have very similar summary statistics, it implies all three have similar kind of pricing. Min values are quite similar as well. Some difference is observed in Maximum room tariff  Property 2 > Property 3 > Property 1 ."
   ]
  },
  {
   "cell_type": "markdown",
   "metadata": {},
   "source": [
    "### No booking id was involved in same day check outs (For eg Airport transfers)"
   ]
  },
  {
   "cell_type": "code",
   "execution_count": 57,
   "metadata": {},
   "outputs": [
    {
     "data": {
      "text/html": [
       "<div>\n",
       "<style scoped>\n",
       "    .dataframe tbody tr th:only-of-type {\n",
       "        vertical-align: middle;\n",
       "    }\n",
       "\n",
       "    .dataframe tbody tr th {\n",
       "        vertical-align: top;\n",
       "    }\n",
       "\n",
       "    .dataframe thead th {\n",
       "        text-align: right;\n",
       "    }\n",
       "</style>\n",
       "<table border=\"1\" class=\"dataframe\">\n",
       "  <thead>\n",
       "    <tr style=\"text-align: right;\">\n",
       "      <th></th>\n",
       "      <th>booking_id</th>\n",
       "      <th>property_id</th>\n",
       "      <th>booking_amount</th>\n",
       "      <th>check_in_date</th>\n",
       "      <th>check_out_date</th>\n",
       "      <th>rooms_booked</th>\n",
       "      <th>amount_per_day</th>\n",
       "    </tr>\n",
       "  </thead>\n",
       "  <tbody>\n",
       "  </tbody>\n",
       "</table>\n",
       "</div>"
      ],
      "text/plain": [
       "Empty DataFrame\n",
       "Columns: [booking_id, property_id, booking_amount, check_in_date, check_out_date, rooms_booked, amount_per_day]\n",
       "Index: []"
      ]
     },
     "execution_count": 57,
     "metadata": {},
     "output_type": "execute_result"
    }
   ],
   "source": [
    "data[data.check_in_date==data.check_out_date]"
   ]
  },
  {
   "cell_type": "code",
   "execution_count": null,
   "metadata": {},
   "outputs": [],
   "source": []
  },
  {
   "cell_type": "code",
   "execution_count": 25,
   "metadata": {},
   "outputs": [],
   "source": [
    "# Creating a list containing all the check in dates-\n",
    "date=min(data.check_in_date).date()\n",
    "date_series=[]\n",
    "while date <= max(data.check_in_date).date() :\n",
    "    \n",
    "    date_series.append(date)\n",
    "    date= date+datetime.timedelta(days=1)"
   ]
  },
  {
   "cell_type": "code",
   "execution_count": 26,
   "metadata": {},
   "outputs": [
    {
     "data": {
      "text/plain": [
       "[datetime.date(2019, 11, 10),\n",
       " datetime.date(2019, 11, 11),\n",
       " datetime.date(2019, 11, 12),\n",
       " datetime.date(2019, 11, 13),\n",
       " datetime.date(2019, 11, 14),\n",
       " datetime.date(2019, 11, 15),\n",
       " datetime.date(2019, 11, 16),\n",
       " datetime.date(2019, 11, 17),\n",
       " datetime.date(2019, 11, 18),\n",
       " datetime.date(2019, 11, 19),\n",
       " datetime.date(2019, 11, 20),\n",
       " datetime.date(2019, 11, 21),\n",
       " datetime.date(2019, 11, 22),\n",
       " datetime.date(2019, 11, 23),\n",
       " datetime.date(2019, 11, 24),\n",
       " datetime.date(2019, 11, 25),\n",
       " datetime.date(2019, 11, 26),\n",
       " datetime.date(2019, 11, 27),\n",
       " datetime.date(2019, 11, 28),\n",
       " datetime.date(2019, 11, 29),\n",
       " datetime.date(2019, 11, 30),\n",
       " datetime.date(2019, 12, 1),\n",
       " datetime.date(2019, 12, 2),\n",
       " datetime.date(2019, 12, 3),\n",
       " datetime.date(2019, 12, 4),\n",
       " datetime.date(2019, 12, 5),\n",
       " datetime.date(2019, 12, 6),\n",
       " datetime.date(2019, 12, 7),\n",
       " datetime.date(2019, 12, 8),\n",
       " datetime.date(2019, 12, 9),\n",
       " datetime.date(2019, 12, 10)]"
      ]
     },
     "execution_count": 26,
     "metadata": {},
     "output_type": "execute_result"
    }
   ],
   "source": [
    "date_series"
   ]
  },
  {
   "cell_type": "code",
   "execution_count": 27,
   "metadata": {},
   "outputs": [
    {
     "data": {
      "text/plain": [
       "31"
      ]
     },
     "execution_count": 27,
     "metadata": {},
     "output_type": "execute_result"
    }
   ],
   "source": [
    "# Total number of days we will be preparing the data frame for- \n",
    "len(date_series)"
   ]
  },
  {
   "cell_type": "code",
   "execution_count": 28,
   "metadata": {},
   "outputs": [],
   "source": [
    "# Initialising the skeleton data frame- \n",
    "new_data=pd.DataFrame({'Date':pd.Series(date_series*3),'Property':[1,2,3]*len(date_series),'Amount Realized':0,'Rooms Occupied':0}).sort_values(by=['Date','Property'])"
   ]
  },
  {
   "cell_type": "code",
   "execution_count": 29,
   "metadata": {},
   "outputs": [],
   "source": [
    "# reseting the index jumbled after the sort operation- \n",
    "new_data=new_data.reset_index(drop=True)"
   ]
  },
  {
   "cell_type": "code",
   "execution_count": 30,
   "metadata": {},
   "outputs": [
    {
     "data": {
      "text/html": [
       "<div>\n",
       "<style scoped>\n",
       "    .dataframe tbody tr th:only-of-type {\n",
       "        vertical-align: middle;\n",
       "    }\n",
       "\n",
       "    .dataframe tbody tr th {\n",
       "        vertical-align: top;\n",
       "    }\n",
       "\n",
       "    .dataframe thead th {\n",
       "        text-align: right;\n",
       "    }\n",
       "</style>\n",
       "<table border=\"1\" class=\"dataframe\">\n",
       "  <thead>\n",
       "    <tr style=\"text-align: right;\">\n",
       "      <th></th>\n",
       "      <th>Date</th>\n",
       "      <th>Property</th>\n",
       "      <th>Amount Realized</th>\n",
       "      <th>Rooms Occupied</th>\n",
       "    </tr>\n",
       "  </thead>\n",
       "  <tbody>\n",
       "    <tr>\n",
       "      <th>0</th>\n",
       "      <td>2019-11-10</td>\n",
       "      <td>1</td>\n",
       "      <td>0</td>\n",
       "      <td>0</td>\n",
       "    </tr>\n",
       "    <tr>\n",
       "      <th>1</th>\n",
       "      <td>2019-11-10</td>\n",
       "      <td>2</td>\n",
       "      <td>0</td>\n",
       "      <td>0</td>\n",
       "    </tr>\n",
       "    <tr>\n",
       "      <th>2</th>\n",
       "      <td>2019-11-10</td>\n",
       "      <td>3</td>\n",
       "      <td>0</td>\n",
       "      <td>0</td>\n",
       "    </tr>\n",
       "    <tr>\n",
       "      <th>3</th>\n",
       "      <td>2019-11-11</td>\n",
       "      <td>1</td>\n",
       "      <td>0</td>\n",
       "      <td>0</td>\n",
       "    </tr>\n",
       "    <tr>\n",
       "      <th>4</th>\n",
       "      <td>2019-11-11</td>\n",
       "      <td>2</td>\n",
       "      <td>0</td>\n",
       "      <td>0</td>\n",
       "    </tr>\n",
       "  </tbody>\n",
       "</table>\n",
       "</div>"
      ],
      "text/plain": [
       "         Date  Property  Amount Realized  Rooms Occupied\n",
       "0  2019-11-10         1                0               0\n",
       "1  2019-11-10         2                0               0\n",
       "2  2019-11-10         3                0               0\n",
       "3  2019-11-11         1                0               0\n",
       "4  2019-11-11         2                0               0"
      ]
     },
     "execution_count": 30,
     "metadata": {},
     "output_type": "execute_result"
    }
   ],
   "source": [
    "new_data.head()"
   ]
  },
  {
   "cell_type": "code",
   "execution_count": 31,
   "metadata": {},
   "outputs": [],
   "source": [
    "new_data['Date']=pd.to_datetime(new_data.Date, infer_datetime_format=True)"
   ]
  },
  {
   "cell_type": "code",
   "execution_count": 32,
   "metadata": {},
   "outputs": [
    {
     "data": {
      "text/plain": [
       "Date               datetime64[ns]\n",
       "Property                    int64\n",
       "Amount Realized             int64\n",
       "Rooms Occupied              int64\n",
       "dtype: object"
      ]
     },
     "execution_count": 32,
     "metadata": {},
     "output_type": "execute_result"
    }
   ],
   "source": [
    "new_data.dtypes"
   ]
  },
  {
   "cell_type": "code",
   "execution_count": 33,
   "metadata": {},
   "outputs": [],
   "source": [
    "# Loop to calculate Rooms Occupied for each date , and Amount realized\n",
    "for i in new_data.index:\n",
    "    try : \n",
    "        new_data.loc[i,'Rooms Occupied']= (data[(data.check_in_date <= new_data.loc[i,'Date']) &\n",
    "            (data.check_out_date>new_data.loc[i,'Date'])].groupby('property_id')).get_group(new_data.loc[i,'Property']).rooms_booked.sum()\n",
    "        new_data.loc[i,'Amount Realized']= data[(data.check_in_date==new_data.loc[i,'Date'])].groupby('property_id').get_group(new_data.loc[i,'Property']).booking_amount.sum()\n",
    "    except KeyError:\n",
    "        continue "
   ]
  },
  {
   "cell_type": "markdown",
   "metadata": {},
   "source": [
    "### Note- The booking amount for individual record is added to the Amount Realized feature on the check-in date itself. "
   ]
  },
  {
   "cell_type": "code",
   "execution_count": 34,
   "metadata": {},
   "outputs": [
    {
     "data": {
      "text/html": [
       "<div>\n",
       "<style scoped>\n",
       "    .dataframe tbody tr th:only-of-type {\n",
       "        vertical-align: middle;\n",
       "    }\n",
       "\n",
       "    .dataframe tbody tr th {\n",
       "        vertical-align: top;\n",
       "    }\n",
       "\n",
       "    .dataframe thead th {\n",
       "        text-align: right;\n",
       "    }\n",
       "</style>\n",
       "<table border=\"1\" class=\"dataframe\">\n",
       "  <thead>\n",
       "    <tr style=\"text-align: right;\">\n",
       "      <th></th>\n",
       "      <th>Date</th>\n",
       "      <th>Property</th>\n",
       "      <th>Amount Realized</th>\n",
       "      <th>Rooms Occupied</th>\n",
       "    </tr>\n",
       "  </thead>\n",
       "  <tbody>\n",
       "    <tr>\n",
       "      <th>0</th>\n",
       "      <td>2019-11-10</td>\n",
       "      <td>1</td>\n",
       "      <td>301891</td>\n",
       "      <td>18</td>\n",
       "    </tr>\n",
       "    <tr>\n",
       "      <th>1</th>\n",
       "      <td>2019-11-10</td>\n",
       "      <td>2</td>\n",
       "      <td>237822</td>\n",
       "      <td>14</td>\n",
       "    </tr>\n",
       "    <tr>\n",
       "      <th>2</th>\n",
       "      <td>2019-11-10</td>\n",
       "      <td>3</td>\n",
       "      <td>126747</td>\n",
       "      <td>12</td>\n",
       "    </tr>\n",
       "    <tr>\n",
       "      <th>3</th>\n",
       "      <td>2019-11-11</td>\n",
       "      <td>1</td>\n",
       "      <td>319893</td>\n",
       "      <td>32</td>\n",
       "    </tr>\n",
       "    <tr>\n",
       "      <th>4</th>\n",
       "      <td>2019-11-11</td>\n",
       "      <td>2</td>\n",
       "      <td>299720</td>\n",
       "      <td>28</td>\n",
       "    </tr>\n",
       "  </tbody>\n",
       "</table>\n",
       "</div>"
      ],
      "text/plain": [
       "        Date  Property  Amount Realized  Rooms Occupied\n",
       "0 2019-11-10         1           301891              18\n",
       "1 2019-11-10         2           237822              14\n",
       "2 2019-11-10         3           126747              12\n",
       "3 2019-11-11         1           319893              32\n",
       "4 2019-11-11         2           299720              28"
      ]
     },
     "execution_count": 34,
     "metadata": {},
     "output_type": "execute_result"
    }
   ],
   "source": [
    "new_data.head()"
   ]
  },
  {
   "cell_type": "markdown",
   "metadata": {},
   "source": [
    "### Sanity Checks- "
   ]
  },
  {
   "cell_type": "code",
   "execution_count": 35,
   "metadata": {},
   "outputs": [
    {
     "data": {
      "text/plain": [
       "-17679"
      ]
     },
     "execution_count": 35,
     "metadata": {},
     "output_type": "execute_result"
    }
   ],
   "source": [
    "new_data['Amount Realized'].sum() - data.booking_amount.sum()"
   ]
  },
  {
   "cell_type": "markdown",
   "metadata": {},
   "source": [
    "#### This difference is due to the erreneous row value which has NULL in the check in date feature and check out date. "
   ]
  },
  {
   "cell_type": "code",
   "execution_count": 36,
   "metadata": {},
   "outputs": [
    {
     "data": {
      "text/plain": [
       "56"
      ]
     },
     "execution_count": 36,
     "metadata": {},
     "output_type": "execute_result"
    }
   ],
   "source": [
    "# Has to be less than 60-\n",
    "new_data['Rooms Occupied'].max()"
   ]
  },
  {
   "cell_type": "code",
   "execution_count": 37,
   "metadata": {},
   "outputs": [
    {
     "data": {
      "text/plain": [
       "12"
      ]
     },
     "execution_count": 37,
     "metadata": {},
     "output_type": "execute_result"
    }
   ],
   "source": [
    "new_data['Rooms Occupied'].min()"
   ]
  },
  {
   "cell_type": "markdown",
   "metadata": {},
   "source": [
    "#### No anomalies present!! "
   ]
  },
  {
   "cell_type": "markdown",
   "metadata": {},
   "source": [
    "### Making a line plot for comparing the three properties in terms of occupancy -  "
   ]
  },
  {
   "cell_type": "code",
   "execution_count": 40,
   "metadata": {},
   "outputs": [
    {
     "data": {
      "image/png": "[encoded data removed]",
      "text/plain": [
       "<Figure size 1440x360 with 1 Axes>"
      ]
     },
     "metadata": {
      "needs_background": "light"
     },
     "output_type": "display_data"
    }
   ],
   "source": [
    "plt.figure(figsize=(20,5))\n",
    "sns.lineplot(x='Date',y='Rooms Occupied',data=new_data,style='Property',markers=True,hue='Property',palette=['C0','C1','C2'])\n",
    "plt.show()"
   ]
  },
  {
   "cell_type": "code",
   "execution_count": 39,
   "metadata": {},
   "outputs": [],
   "source": [
    "from pandas.plotting import register_matplotlib_converters\n",
    "register_matplotlib_converters()"
   ]
  },
  {
   "cell_type": "markdown",
   "metadata": {},
   "source": [
    "### Making a line plot for comparing the three properties in terms of Amount Realized -  "
   ]
  },
  {
   "cell_type": "code",
   "execution_count": 41,
   "metadata": {},
   "outputs": [
    {
     "data": {
      "image/png": "[encoded data removed]",
      "text/plain": [
       "<Figure size 1440x360 with 1 Axes>"
      ]
     },
     "metadata": {
      "needs_background": "light"
     },
     "output_type": "display_data"
    }
   ],
   "source": [
    "plt.figure(figsize=(20,5))\n",
    "sns.lineplot(x='Date',y='Amount Realized',data=new_data,style='Property',markers=True,hue='Property',palette=['C0','C1','C2'])\n",
    "plt.show()"
   ]
  },
  {
   "cell_type": "markdown",
   "metadata": {},
   "source": [
    "### Inferences- "
   ]
  },
  {
   "cell_type": "markdown",
   "metadata": {},
   "source": [
    "### i) Property 3 has the least Amount Realized i.e least business. "
   ]
  },
  {
   "cell_type": "code",
   "execution_count": 42,
   "metadata": {},
   "outputs": [
    {
     "data": {
      "text/plain": [
       "Property\n",
       "3    5777145\n",
       "1    6070944\n",
       "2    6557854\n",
       "Name: Amount Realized, dtype: int64"
      ]
     },
     "execution_count": 42,
     "metadata": {},
     "output_type": "execute_result"
    }
   ],
   "source": [
    "new_data.groupby('Property')['Amount Realized'].sum().sort_values()"
   ]
  },
  {
   "cell_type": "markdown",
   "metadata": {},
   "source": [
    "### ii) Property 3 has the least value of Rooms Occupied as well. "
   ]
  },
  {
   "cell_type": "code",
   "execution_count": 43,
   "metadata": {},
   "outputs": [
    {
     "data": {
      "text/plain": [
       "Property\n",
       "3    1132\n",
       "2    1253\n",
       "1    1273\n",
       "Name: Rooms Occupied, dtype: int64"
      ]
     },
     "execution_count": 43,
     "metadata": {},
     "output_type": "execute_result"
    }
   ],
   "source": [
    "new_data.groupby('Property')['Rooms Occupied'].sum().sort_values()"
   ]
  },
  {
   "cell_type": "code",
   "execution_count": 44,
   "metadata": {},
   "outputs": [
    {
     "data": {
      "text/html": [
       "<div>\n",
       "<style scoped>\n",
       "    .dataframe tbody tr th:only-of-type {\n",
       "        vertical-align: middle;\n",
       "    }\n",
       "\n",
       "    .dataframe tbody tr th {\n",
       "        vertical-align: top;\n",
       "    }\n",
       "\n",
       "    .dataframe thead th {\n",
       "        text-align: right;\n",
       "    }\n",
       "</style>\n",
       "<table border=\"1\" class=\"dataframe\">\n",
       "  <thead>\n",
       "    <tr style=\"text-align: right;\">\n",
       "      <th>Property</th>\n",
       "      <th>1</th>\n",
       "      <th>2</th>\n",
       "      <th>3</th>\n",
       "    </tr>\n",
       "  </thead>\n",
       "  <tbody>\n",
       "    <tr>\n",
       "      <th>count</th>\n",
       "      <td>31.000000</td>\n",
       "      <td>31.000000</td>\n",
       "      <td>31.000000</td>\n",
       "    </tr>\n",
       "    <tr>\n",
       "      <th>mean</th>\n",
       "      <td>41.064516</td>\n",
       "      <td>40.419355</td>\n",
       "      <td>36.516129</td>\n",
       "    </tr>\n",
       "    <tr>\n",
       "      <th>std</th>\n",
       "      <td>7.809974</td>\n",
       "      <td>9.935707</td>\n",
       "      <td>9.312611</td>\n",
       "    </tr>\n",
       "    <tr>\n",
       "      <th>min</th>\n",
       "      <td>18.000000</td>\n",
       "      <td>14.000000</td>\n",
       "      <td>12.000000</td>\n",
       "    </tr>\n",
       "    <tr>\n",
       "      <th>25%</th>\n",
       "      <td>36.500000</td>\n",
       "      <td>34.500000</td>\n",
       "      <td>31.500000</td>\n",
       "    </tr>\n",
       "    <tr>\n",
       "      <th>50%</th>\n",
       "      <td>42.000000</td>\n",
       "      <td>41.000000</td>\n",
       "      <td>37.000000</td>\n",
       "    </tr>\n",
       "    <tr>\n",
       "      <th>75%</th>\n",
       "      <td>46.500000</td>\n",
       "      <td>47.000000</td>\n",
       "      <td>42.500000</td>\n",
       "    </tr>\n",
       "    <tr>\n",
       "      <th>max</th>\n",
       "      <td>52.000000</td>\n",
       "      <td>56.000000</td>\n",
       "      <td>51.000000</td>\n",
       "    </tr>\n",
       "  </tbody>\n",
       "</table>\n",
       "</div>"
      ],
      "text/plain": [
       "Property          1          2          3\n",
       "count     31.000000  31.000000  31.000000\n",
       "mean      41.064516  40.419355  36.516129\n",
       "std        7.809974   9.935707   9.312611\n",
       "min       18.000000  14.000000  12.000000\n",
       "25%       36.500000  34.500000  31.500000\n",
       "50%       42.000000  41.000000  37.000000\n",
       "75%       46.500000  47.000000  42.500000\n",
       "max       52.000000  56.000000  51.000000"
      ]
     },
     "execution_count": 44,
     "metadata": {},
     "output_type": "execute_result"
    }
   ],
   "source": [
    "new_data.groupby('Property')['Rooms Occupied'].describe().T"
   ]
  },
  {
   "cell_type": "markdown",
   "metadata": {},
   "source": [
    "#### iii) Property 3 has the lowest 'Average Rooms Occupied' .\n",
    "     \n",
    "####       Property 3 has the least value of 'min Occupied Rooms'\n",
    "     \n",
    "####       Property 3 has the lower values of Quantile values as well ( Clearly visible in the box plot)"
   ]
  },
  {
   "cell_type": "code",
   "execution_count": 45,
   "metadata": {},
   "outputs": [
    {
     "data": {
      "text/plain": [
       "<matplotlib.axes._subplots.AxesSubplot at 0x2f4e426b518>"
      ]
     },
     "execution_count": 45,
     "metadata": {},
     "output_type": "execute_result"
    },
    {
     "data": {
      "image/png": "[encoded data removed]",
      "text/plain": [
       "<Figure size 432x288 with 1 Axes>"
      ]
     },
     "metadata": {
      "needs_background": "light"
     },
     "output_type": "display_data"
    }
   ],
   "source": [
    "sns.boxplot(x='Property',y='Rooms Occupied',data=new_data)"
   ]
  },
  {
   "cell_type": "markdown",
   "metadata": {},
   "source": [
    "As per the analysis presented above, it can be concluded that property 3 is the least profitable among the three properties and necessary steps should be taken to identify the possible causes and provide recomendations.  "
   ]
  },
  {
   "cell_type": "markdown",
   "metadata": {},
   "source": [
    "Time series forecasting could be done to make predictions about coming months, but the given data is of only 31 days hence we will not get significant results."
   ]
  }
 ],
 "metadata": {
  "kernelspec": {
   "display_name": "Python 3",
   "language": "python",
   "name": "python3"
  },
  "language_info": {
   "codemirror_mode": {
    "name": "ipython",
    "version": 3
   },
   "file_extension": ".py",
   "mimetype": "text/x-python",
   "name": "python",
   "nbconvert_exporter": "python",
   "pygments_lexer": "ipython3",
   "version": "3.7.3"
  }
 },
 "nbformat": 4,
 "nbformat_minor": 2
}
